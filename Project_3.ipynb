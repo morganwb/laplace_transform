{
 "cells": [
  {
   "cell_type": "markdown",
   "metadata": {},
   "source": [
    "# MATH 218 Differential Equations Project 3\n",
    "## Morgan Baxter\n",
    "\n",
    "The goal for this project is to write a python script that takes a differential equation as input and finds the Laplace transform. This script only accepts linear constant coefficient equations of any order. Any initial conditions must be given at $t=0$. The functions involved need to be defined on $[0, \\infty)$. "
   ]
  },
  {
   "cell_type": "code",
   "execution_count": 12,
   "metadata": {},
   "outputs": [],
   "source": [
    "from sympy import *\n",
    "from IPython.display import display, Markdown, Latex"
   ]
  },
  {
   "cell_type": "markdown",
   "metadata": {},
   "source": [
    "The Differential Equation to input should be rewritten such that $t$ is the independent variable, and $y$ is the dependent variable."
   ]
  },
  {
   "cell_type": "code",
   "execution_count": 13,
   "metadata": {},
   "outputs": [],
   "source": [
    "y = S('y')\n",
    "x = S('x')\n",
    "t = S('t')\n",
    "s = S('s')\n",
    "\n",
    "def laplace_transform(expression):\n",
    "    integrand = sympify(expression) * exp(-s*t)\n",
    "    t_e = integrate(integrand, (t, 0, oo))\n",
    "    soln = simplify(sympify(str(t_e.subs).split(',')[0][39:]))\n",
    "    return soln"
   ]
  },
  {
   "cell_type": "code",
   "execution_count": 14,
   "metadata": {},
   "outputs": [],
   "source": [
    "def laplace_transform_all_soln(expression):\n",
    "    integrand = sympify(expression) * exp(-s*t)\n",
    "    t_e = integrate(integrand, (t, 0, oo))\n",
    "    return t_e"
   ]
  },
  {
   "cell_type": "code",
   "execution_count": 15,
   "metadata": {},
   "outputs": [
    {
     "data": {
      "text/latex": [
       "$\\displaystyle - \\frac{3 x}{s}$"
      ],
      "text/plain": [
       "-3*x/s"
      ]
     },
     "execution_count": 15,
     "metadata": {},
     "output_type": "execute_result"
    }
   ],
   "source": [
    "laplace_transform('Derivative(x,t) - 3*x')"
   ]
  },
  {
   "cell_type": "code",
   "execution_count": 16,
   "metadata": {},
   "outputs": [
    {
     "data": {
      "text/latex": [
       "$\\displaystyle \\begin{cases} - \\frac{3 x}{s} & \\text{for}\\: \\left|{\\arg{\\left(s \\right)}}\\right| < \\frac{\\pi}{2} \\\\\\int\\limits_{0}^{\\infty} \\left(- 3 x + \\frac{d}{d t} x\\right) e^{- s t}\\, dt & \\text{otherwise} \\end{cases}$"
      ],
      "text/plain": [
       "Piecewise((-3*x/s, Abs(arg(s)) < pi/2), (Integral((-3*x + Derivative(x, t))*exp(-s*t), (t, 0, oo)), True))"
      ]
     },
     "execution_count": 16,
     "metadata": {},
     "output_type": "execute_result"
    }
   ],
   "source": [
    "laplace_transform_all_soln('Derivative(x,t) - 3*x')"
   ]
  },
  {
   "cell_type": "code",
   "execution_count": 17,
   "metadata": {},
   "outputs": [
    {
     "data": {
      "text/plain": [
       "'<bound method Basic.subs of Piecewise((-3*x/s, Abs(arg(s)) < pi/2), (Integral((-3*x + Derivative(x, t))*exp(-s*t), (t, 0, oo)), True))>'"
      ]
     },
     "execution_count": 17,
     "metadata": {},
     "output_type": "execute_result"
    }
   ],
   "source": [
    "str(laplace_transform_all_soln('Derivative(x,t) - 3*x').subs)"
   ]
  },
  {
   "cell_type": "code",
   "execution_count": 18,
   "metadata": {},
   "outputs": [
    {
     "data": {
      "text/latex": [
       "$\\displaystyle \\int\\limits_{0}^{\\infty} \\left(- 3 x + \\frac{d}{d t} x\\right) e^{- s t}\\, dt$"
      ],
      "text/plain": [
       "Integral((-3*x + Derivative(x, t))*exp(-s*t), (t, 0, oo))"
      ]
     },
     "execution_count": 18,
     "metadata": {},
     "output_type": "execute_result"
    }
   ],
   "source": [
    "sympify(Integral((-3*x + Derivative(x, t))*exp(-s*t), (t, 0, oo)))"
   ]
  },
  {
   "cell_type": "code",
   "execution_count": 19,
   "metadata": {},
   "outputs": [
    {
     "data": {
      "text/latex": [
       "$\\displaystyle \\frac{2}{s \\left(s^{2} + 4\\right)}$"
      ],
      "text/plain": [
       "2/(s*(s**2 + 4))"
      ]
     },
     "execution_count": 19,
     "metadata": {},
     "output_type": "execute_result"
    }
   ],
   "source": [
    "laplace_transform('sin(t)^2')"
   ]
  },
  {
   "cell_type": "code",
   "execution_count": 20,
   "metadata": {},
   "outputs": [],
   "source": [
    "def diff_eq_coeff(y_2_coeff = 0, y_1_coeff = 0, y_0_coeff = 0, RHS = 0):\n",
    "    LHS = sympify(y_2_coeff)*Derivative(y, t, t) + sympify(y_1_coeff)*Derivative(y, t) + sympify(y_0_coeff)*y\n",
    "    return LHS, sympify(RHS)"
   ]
  },
  {
   "cell_type": "code",
   "execution_count": 21,
   "metadata": {},
   "outputs": [
    {
     "data": {
      "text/latex": [
       "$\\left( - y - 7 \\frac{d}{d t} y + 4 \\frac{d^{2}}{d t^{2}} y, \\  e^{x} - 7 x\\right) = 0$"
      ],
      "text/plain": [
       "<IPython.core.display.Latex object>"
      ]
     },
     "metadata": {},
     "output_type": "display_data"
    }
   ],
   "source": [
    "diff_eq = Eq(diff_eq_coeff(4, -7, -1, 'e**x - 7*x'))\n",
    "cole = latex(diff_eq, itex=true, mode='plain')\n",
    "cole = '$' + cole + '$'\n",
    "display(Latex(cole))"
   ]
  },
  {
   "cell_type": "code",
   "execution_count": 22,
   "metadata": {},
   "outputs": [
    {
     "data": {
      "text/latex": [
       "$\\displaystyle \\begin{cases} - \\frac{y}{s} & \\text{for}\\: \\left|{\\arg{\\left(s \\right)}}\\right| < \\frac{\\pi}{2} \\\\\\int\\limits_{0}^{\\infty} \\left(- y - 7 \\frac{d}{d t} y + 4 \\frac{d^{2}}{d t^{2}} y\\right) e^{- s t}\\, dt & \\text{otherwise} \\end{cases}$"
      ],
      "text/plain": [
       "Piecewise((-y/s, Abs(arg(s)) < pi/2), (Integral((-y - 7*Derivative(y, t) + 4*Derivative(y, (t, 2)))*exp(-s*t), (t, 0, oo)), True))"
      ]
     },
     "execution_count": 22,
     "metadata": {},
     "output_type": "execute_result"
    }
   ],
   "source": [
    "laplace_transform_all_soln(diff_eq_coeff(4, -7, -1, 'e**x - 7*x')[0])"
   ]
  },
  {
   "cell_type": "code",
   "execution_count": 23,
   "metadata": {},
   "outputs": [],
   "source": [
    "# function for partial fraction decomposition\n",
    "def pfd(expression):\n",
    "    inv = sympify(expression).apart().expand()\n",
    "    return inv"
   ]
  },
  {
   "cell_type": "code",
   "execution_count": 24,
   "metadata": {},
   "outputs": [
    {
     "data": {
      "text/latex": [
       "$\\displaystyle \\frac{2 s}{s^{2} + 1} - \\frac{2}{3 \\left(s^{2} + 4\\right)} + \\frac{5}{3 \\left(s^{2} + 1\\right)}$"
      ],
      "text/plain": [
       "2*s/(s**2 + 1) - 2/(3*(s**2 + 4)) + 5/(3*(s**2 + 1))"
      ]
     },
     "execution_count": 24,
     "metadata": {},
     "output_type": "execute_result"
    }
   ],
   "source": [
    "pfd('(2*s^3 + s^2 + 8*s + 6)/((s^2 + 1)*(s^2+4))')"
   ]
  },
  {
   "cell_type": "code",
   "execution_count": 25,
   "metadata": {},
   "outputs": [
    {
     "data": {
      "text/latex": [
       "$\\displaystyle 2$"
      ],
      "text/plain": [
       "2"
      ]
     },
     "execution_count": 25,
     "metadata": {},
     "output_type": "execute_result"
    }
   ],
   "source": [
    "sympify('Integer(2)')"
   ]
  },
  {
   "cell_type": "code",
   "execution_count": 26,
   "metadata": {},
   "outputs": [
    {
     "name": "stdout",
     "output_type": "stream",
     "text": [
      " Integer(-4))\n"
     ]
    },
    {
     "ename": "NameError",
     "evalue": "name 'prin' is not defined",
     "output_type": "error",
     "traceback": [
      "\u001b[0;31m---------------------------------------------------------------------------\u001b[0m",
      "\u001b[0;31mNameError\u001b[0m                                 Traceback (most recent call last)",
      "\u001b[0;32m<ipython-input-26-f17d19932bff>\u001b[0m in \u001b[0;36m<module>\u001b[0;34m\u001b[0m\n\u001b[1;32m      2\u001b[0m \u001b[0mprint\u001b[0m\u001b[0;34m(\u001b[0m\u001b[0mmy_str\u001b[0m\u001b[0;34m)\u001b[0m\u001b[0;34m\u001b[0m\u001b[0;34m\u001b[0m\u001b[0m\n\u001b[1;32m      3\u001b[0m \u001b[0mdigit_list\u001b[0m \u001b[0;34m=\u001b[0m \u001b[0;34m[\u001b[0m\u001b[0ms\u001b[0m \u001b[0;32mfor\u001b[0m \u001b[0ms\u001b[0m \u001b[0;32min\u001b[0m \u001b[0mmy_str\u001b[0m \u001b[0;32mif\u001b[0m \u001b[0ms\u001b[0m\u001b[0;34m.\u001b[0m\u001b[0misdigit\u001b[0m\u001b[0;34m(\u001b[0m\u001b[0;34m)\u001b[0m \u001b[0;32mor\u001b[0m \u001b[0ms\u001b[0m \u001b[0;34m==\u001b[0m \u001b[0;34m'-'\u001b[0m\u001b[0;34m]\u001b[0m\u001b[0;34m\u001b[0m\u001b[0;34m\u001b[0m\u001b[0m\n\u001b[0;32m----> 4\u001b[0;31m \u001b[0mprin\u001b[0m\u001b[0;34m(\u001b[0m\u001b[0mdigit_list\u001b[0m\u001b[0;34m)\u001b[0m\u001b[0;34m\u001b[0m\u001b[0;34m\u001b[0m\u001b[0m\n\u001b[0m",
      "\u001b[0;31mNameError\u001b[0m: name 'prin' is not defined"
     ]
    }
   ],
   "source": [
    "my_str = ' Integer(-4))'\n",
    "print(my_str)\n",
    "digit_list = [s for s in my_str if s.isdigit() or s == '-']\n",
    "prin(digit_list)\n"
   ]
  },
  {
   "cell_type": "code",
   "execution_count": 27,
   "metadata": {},
   "outputs": [],
   "source": [
    "#works for '1/((s**2 + 1)*(s-2))'\n",
    "\n",
    "def inverse_laplace_1(expression):\n",
    "    i_l = pfd(expression)\n",
    "    solution = 'empty!'\n",
    "    for arg in i_l.args:\n",
    "        k = 0\n",
    "        while srepr(arg.args[k])[0:3] == \"Rat\":\n",
    "            k += 1\n",
    "        s_p = srepr(arg.args).split(',')\n",
    "        vals = []\n",
    "        for s in s_p:\n",
    "            digit_list = [s for s in s if s.isdigit() or s == '-']\n",
    "            if len(digit_list) != 0:\n",
    "                vals.append(sympify(''.join(digit_list)))\n",
    "            else:\n",
    "                vals.append(' ')\n",
    "        if s_p[2] == \" Pow(Add(Pow(Symbol('s')\":\n",
    "            if vals[4] > 0 and sqrt(vals[4]) != abs(vals[0]):\n",
    "                sub_term = 'cos(' + str(sqrt(vals[4])) + '*t)'\n",
    "                sub_term = sympify(arg.args[0])*sympify(sub_term)\n",
    "                #print(sub_term)\n",
    "            if vals[3] < 0 and sqrt(abs(vals[3])) == vals[0]:\n",
    "                print('this is a hyperbolic sine!')\n",
    "            if vals[3] < 0 and sqrt(abs(vals[3])) != vals[0]:\n",
    "                print('this is a hyperbolic cosine!')\n",
    "            \n",
    "        if s_p[3] == \" Pow(Add(Pow(Symbol('s')\":\n",
    "            if int(vals[5]) > 0 and sqrt(vals[5]) == abs(vals[0]):\n",
    "                sub_term = 'sin(' + str(sqrt(vals[5])) + '*t)'\n",
    "                sub_term = sympify(arg.args[0])*sympify(sub_term)\n",
    "                #print(sub_term)\n",
    "            \n",
    "        if s_p[2] == \" Pow(Add(Symbol('s')\" and len(vals) == 5:\n",
    "            if int(vals[4]) == -1:\n",
    "                sub_term = 'exp(' + str(-int(vals[3])) + '*t)'\n",
    "                sub_term = sympify(arg.args[0])*sympify(sub_term)\n",
    "                #print(sub_term)\n",
    "            \n",
    "        if solution == 'empty!':\n",
    "            solution = sympify(sub_term)\n",
    "        else:\n",
    "            solution = solution + sub_term\n",
    "    \n",
    "    \n",
    "    input_expr_l = latex(sympify(expression),itex=true,mode='plain')\n",
    "    pfd_l = latex(i_l,itex=true,mode='plain')\n",
    "    solution_l = latex(solution,itex=true,mode='plain')\n",
    "    latex_display = '$\\mathscr{L}^{-1}\\\\Big(' + input_expr_l + '\\\\Big) = \\mathscr{L}^{-1}\\\\Big(' + pfd_l + '\\\\Big) = '+ solution_l + '$'\n",
    "    display(Latex(latex_display))\n",
    "    pass"
   ]
  },
  {
   "cell_type": "code",
   "execution_count": 28,
   "metadata": {},
   "outputs": [
    {
     "data": {
      "text/latex": [
       "$\\mathscr{L}^{-1}\\Big(\\frac{1}{\\left(s - 2\\right) \\left(s^{2} + 1\\right)}\\Big) = \\mathscr{L}^{-1}\\Big(- \\frac{s}{5 \\left(s^{2} + 1\\right)} - \\frac{2}{5 \\left(s^{2} + 1\\right)} + \\frac{1}{5 \\left(s - 2\\right)}\\Big) = \\frac{e^{2 t}}{5} - \\frac{\\sin{\\left(t \\right)}}{5} - \\frac{2 \\cos{\\left(t \\right)}}{5}$"
      ],
      "text/plain": [
       "<IPython.core.display.Latex object>"
      ]
     },
     "metadata": {},
     "output_type": "display_data"
    }
   ],
   "source": [
    "inverse_laplace('1/((s**2 + 1)*(s-2))')"
   ]
  },
  {
   "cell_type": "code",
   "execution_count": null,
   "metadata": {},
   "outputs": [],
   "source": [
    "def inverse_laplace_2(expression):\n",
    "    # carry out partial fraction decomposition on input expression\n",
    "    pfd = sympify(expression).apart().expand()\n",
    "    # determine top-level function of decomposed expression\n",
    "    if str(pfd.func).find('Add') != -1:\n",
    "        \n",
    "        \n",
    "    elif str(pfd.func).find('Mul') != -1:\n",
    "        \n",
    "    elif str(pfd.func).find('Pow') != -1:\n",
    "        \n",
    "        \n",
    "        \n",
    "        \n",
    "    for arg in srepr(i_l).split(','):\n",
    "        new_term = False\n",
    "        numerator_offset = 0\n",
    "        first_symbolic_index = 'empty'\n",
    "        s_p = arg\n",
    "        print('s_p = ' + str(s_p))\n",
    "        vals = []\n",
    "        k = 0\n",
    "        for s in arg.split(','):\n",
    "            digit_list = [s for s in s if s.isdigit() or s == '-']\n",
    "            if len(digit_list) != 0:\n",
    "                vals.append(sympify(''.join(digit_list)))\n",
    "            else:\n",
    "                vals.append(' ')\n",
    "                if first_symbolic_index == 'empty':\n",
    "                    first_symbolic_index = k\n",
    "            k += 1\n",
    "        if vals[0] == -1:\n",
    "            numerator_offset = 1\n",
    "        print('vals = ' + str(vals))\n",
    "        print('s_p[first_symbolic_index] = ' + s_p[first_symbolic_index])\n",
    "        if s_p[first_symbolic_index] == \" Pow(Add(Pow(Symbol('s')\":\n",
    "            if vals[first_symbolic_index + 2] > 0:\n",
    "                sub_term = 'sin(' + str(sqrt(vals[first_symbolic_index + 2])) + '*t)'\n",
    "                sub_term = sympify(arg.args[0]/sqrt(vals[first_symbolic_index + 2]))*sympify(sub_term)\n",
    "                print('sub_term: ' + str(sub_term))\n",
    "                new_term = True\n",
    "            if vals[first_symbolic_index + 2] < 0:\n",
    "                sub_term = 'sinh(' + str(sqrt(vals[first_symbolic_index + 2])) + '*t)'\n",
    "                sub_term = sympify(arg.args[0]/sqrt(vals[first_symbolic_index + 2]))*sympify(sub_term)\n",
    "                print('sub_term: ' + str(sub_term))\n",
    "                new_term = True\n",
    "            \n",
    "        elif s_p[first_symbolic_index] == \" Symbol('s')\" or s_p[first_symbolic_index] == \"Symbol('s')\":\n",
    "            if s_p[first_symbolic_index + 1] == \" Pow(Add(Pow(Symbol('s')\":\n",
    "                if vals[first_symbolic_index + 3] > 0:\n",
    "                    sub_term = 'cos(' + str(sqrt(vals[first_symbolic_index + 3])) + '*t)'\n",
    "                    sub_term = sympify(arg.args[0]/sqrt(vals[first_symbolic_index + 3]))*sympify(sub_term)\n",
    "                    print('sub_term: ' + str(sub_term))\n",
    "                    new_term = True\n",
    "                if vals[first_symbolic_index + 3] < 0:\n",
    "                    sub_term = 'cos(' + str(sqrt(vals[first_symbolic_index + 3])) + '*t)'\n",
    "                    sub_term = sympify(arg.args[0]/sqrt(vals[first_symbolic_index + 3]))*sympify(sub_term)\n",
    "                    print('sub_term: ' + str(sub_term))\n",
    "                    new_term = True\n",
    "                    \n",
    "        elif s_p[first_symbolic_index] == \" Pow(Add(Symbol('s')\":\n",
    "            sub_term = 'exp(' + str(-vals[first_symbolic_index + 1]) + '*t)'\n",
    "            sub_term = sympify(arg.args[0])*sympify(sub_term)\n",
    "            print('sub_term: ' + str(sub_term))\n",
    "            new_term = True\n",
    "        \n",
    "        \n",
    "        # Check for a straightforward power of s, ie s^-1, s^-2, s^2\n",
    "        elif s_p[first_symbolic_index] == \" Pow(Symbol('s')\" or s_p[first_symbolic_index] == \"Pow(Symbol('s')\":\n",
    "            print('vals[first_symbolic_index + 1] = ' + str(vals[first_symbolic_index + 1]))\n",
    "            print(vals)\n",
    "            if vals[first_symbolic_index + 1] == -1:\n",
    "                sub_term = sympify(i_l.args[0])\n",
    "            else:\n",
    "                sub_term = 't**' + str(-(vals[first_symbolic_index + 1] + 1)) + '/' + str(-(vals[first_symbolic_index + 1] + 1))\n",
    "                sub_term = sympify(arg.args[0])*sympify(sub_term)\n",
    "            print('sub_term: ' + str(sub_term))\n",
    "            new_term = True\n",
    "        \n",
    "        if solution == 'empty!':\n",
    "            solution = sympify(sub_term)\n",
    "        elif new_term:\n",
    "            solution = solution + sub_term\n",
    "    \n",
    "    input_expr_l = latex(sympify(expression),itex=true,mode='plain')\n",
    "    pfd_l = latex(i_l,itex=true,mode='plain')\n",
    "    solution_l = latex(simplify(solution),itex=true,mode='plain')\n",
    "    latex_display = '$\\mathscr{L}^{-1}\\\\Big(' + input_expr_l + '\\\\Big) = \\mathscr{L}^{-1}\\\\Big(' + pfd_l + '\\\\Big) = '+ solution_l + '$'\n",
    "    display(Latex(latex_display))\n",
    "    pass"
   ]
  },
  {
   "cell_type": "code",
   "execution_count": 247,
   "metadata": {},
   "outputs": [],
   "source": [
    "def power_conversion(expression):\n",
    "    power = -int(expression.args[1])\n",
    "    if power == 1:\n",
    "        inverse = 1\n",
    "    else:\n",
    "        inverse = sympify((t**(power-1))/(factorial(power-1)))\n",
    "    return inverse\n",
    "\n",
    "def sine_conversion(expression):\n",
    "    terms = str(expression.args).split(',')\n",
    "    if terms[0].find('+') != -1:\n",
    "        b_sqr = int(terms[0].split('+')[1])\n",
    "        inverse = sympify(sin(sqrt(b_sqr)*t)/sqrt(b_sqr))\n",
    "    elif terms[0].find('-') != -1:\n",
    "        b_sqr = int(terms[0].split('-')[1])\n",
    "        inverse = sympify(sinh(sqrt(b_sqr)*t)/sqrt(b_sqr))\n",
    "    return inverse\n",
    "\n",
    "def cosine_conversion(expression):\n",
    "    terms = str(expression.args).split(',')\n",
    "    if terms[0].find('+') != -1:\n",
    "        b_sqr = int(terms[0].split('+')[1])\n",
    "        inverse = sympify(cos(sqrt(b_sqr)*t))\n",
    "    elif terms[0].find('-') != -1:\n",
    "        b_sqr = int(terms[0].split('-')[1])\n",
    "        inverse = sympify(cosh(sqrt(b_sqr)*t))\n",
    "    return inverse\n",
    "\n",
    "def exponential_conversion(expression):\n",
    "    terms = str(expression.args).split(',')\n",
    "    if terms[0].find('+') != -1:\n",
    "        b_sqr = int(terms[0].split('+')[1])\n",
    "        inverse = sympify(exp(-b_sqr*t))\n",
    "    elif terms[0].find('-') != -1:\n",
    "        b_sqr = int(terms[0].split('-')[1])\n",
    "        inverse = sympify(exp(b_sqr*t))\n",
    "    return inverse"
   ]
  },
  {
   "cell_type": "code",
   "execution_count": 254,
   "metadata": {},
   "outputs": [
    {
     "data": {
      "text/plain": [
       "1"
      ]
     },
     "execution_count": 254,
     "metadata": {},
     "output_type": "execute_result"
    }
   ],
   "source": [
    "power_conversion(1/s)"
   ]
  },
  {
   "cell_type": "code",
   "execution_count": 255,
   "metadata": {},
   "outputs": [
    {
     "data": {
      "text/latex": [
       "$\\displaystyle t$"
      ],
      "text/plain": [
       "t"
      ]
     },
     "execution_count": 255,
     "metadata": {},
     "output_type": "execute_result"
    }
   ],
   "source": [
    "power_conversion(1/s**2)"
   ]
  },
  {
   "cell_type": "code",
   "execution_count": 248,
   "metadata": {},
   "outputs": [
    {
     "data": {
      "text/latex": [
       "$\\displaystyle \\frac{\\sin{\\left(2 t \\right)}}{2}$"
      ],
      "text/plain": [
       "sin(2*t)/2"
      ]
     },
     "execution_count": 248,
     "metadata": {},
     "output_type": "execute_result"
    }
   ],
   "source": [
    "sine_conversion(1/(s**2 + 4))"
   ]
  },
  {
   "cell_type": "code",
   "execution_count": 249,
   "metadata": {},
   "outputs": [
    {
     "data": {
      "text/latex": [
       "$\\displaystyle \\frac{\\sinh{\\left(2 t \\right)}}{2}$"
      ],
      "text/plain": [
       "sinh(2*t)/2"
      ]
     },
     "execution_count": 249,
     "metadata": {},
     "output_type": "execute_result"
    }
   ],
   "source": [
    "sine_conversion(1/(s**2 - 4))"
   ]
  },
  {
   "cell_type": "code",
   "execution_count": 250,
   "metadata": {},
   "outputs": [
    {
     "data": {
      "text/latex": [
       "$\\displaystyle \\cosh{\\left(2 t \\right)}$"
      ],
      "text/plain": [
       "cosh(2*t)"
      ]
     },
     "execution_count": 250,
     "metadata": {},
     "output_type": "execute_result"
    }
   ],
   "source": [
    "cosine_conversion(1/(s**2 - 4))"
   ]
  },
  {
   "cell_type": "code",
   "execution_count": 252,
   "metadata": {},
   "outputs": [
    {
     "data": {
      "text/latex": [
       "$\\displaystyle \\cos{\\left(2 t \\right)}$"
      ],
      "text/plain": [
       "cos(2*t)"
      ]
     },
     "execution_count": 252,
     "metadata": {},
     "output_type": "execute_result"
    }
   ],
   "source": [
    "cosine_conversion(1/(s**2 + 4))"
   ]
  },
  {
   "cell_type": "code",
   "execution_count": 251,
   "metadata": {},
   "outputs": [
    {
     "data": {
      "text/latex": [
       "$\\displaystyle e^{- 4 t}$"
      ],
      "text/plain": [
       "exp(-4*t)"
      ]
     },
     "execution_count": 251,
     "metadata": {},
     "output_type": "execute_result"
    }
   ],
   "source": [
    "exponential_conversion(1/(s+4))"
   ]
  },
  {
   "cell_type": "code",
   "execution_count": 371,
   "metadata": {},
   "outputs": [],
   "source": [
    "def power_parse(power_term):\n",
    "    if len(power_term.args[0].args) == 0:\n",
    "        solution = power_conversion(power_term)\n",
    "    elif len(power_term.args[0].args) == 2:\n",
    "        if str(power_term.args[0].args[1].func).find('Pow') != -1:\n",
    "            solution = sine_conversion(power_term)\n",
    "        else:\n",
    "            solution = exponential_conversion(power_term)\n",
    "    else:\n",
    "        print(\"hmm, this doesn't work.\")\n",
    "    return(solution)"
   ]
  },
  {
   "cell_type": "code",
   "execution_count": 372,
   "metadata": {},
   "outputs": [
    {
     "data": {
      "text/latex": [
       "$\\displaystyle \\sin{\\left(t \\right)}$"
      ],
      "text/plain": [
       "sin(t)"
      ]
     },
     "execution_count": 372,
     "metadata": {},
     "output_type": "execute_result"
    }
   ],
   "source": [
    "power_parse(sympify('1/((s**2)+1)'))"
   ]
  },
  {
   "cell_type": "code",
   "execution_count": 378,
   "metadata": {},
   "outputs": [],
   "source": [
    "def inverse_laplace_3(expression):\n",
    "    # carry out partial fraction decomposition on input expression\n",
    "    pfd = sympify(expression).apart().expand()\n",
    "    # determine top-level function of decomposed expression\n",
    "    if str(pfd.func).find('Add') != -1:\n",
    "        print('top level is add')\n",
    "        print('args = ' + str(str(pfd.args).split(',')))\n",
    "        for arg in str(pfd.args).split(','):\n",
    "            print(arg)\n",
    "    elif str(pfd.func).find('Mul') != -1:\n",
    "        coeff =  pfd.args[0]\n",
    "        transform = power_parse(pfd.args[1])\n",
    "        solution = coeff*transform\n",
    "    elif str(pfd.func).find('Pow') != -1:\n",
    "        if len(pfd.args[0].args) == 0:\n",
    "            solution = power_conversion(pfd)\n",
    "        elif len(pfd.args[0].args) == 2:\n",
    "            if str(pfd.args[0].args[1].func).find('Pow') != -1:\n",
    "                solution = sine_conversion(pfd)\n",
    "            else:\n",
    "                solution = exponential_conversion(pfd)\n",
    "        else:\n",
    "            print(\"can't find inverse laplace transforms for powers higher than 2!\")\n",
    "\n",
    "    input_expr_l = latex(sympify(expression),itex=true,mode='plain')\n",
    "    pfd_l = latex(pfd,itex=true,mode='plain')\n",
    "    solution_l = latex(simplify(solution),itex=true,mode='plain')\n",
    "    if pfd != sympify(expression):\n",
    "        latex_display = '$\\mathscr{L}^{-1}\\\\Big(' + input_expr_l + '\\\\Big) = \\mathscr{L}^{-1}\\\\Big(' + pfd_l + '\\\\Big) = '+ solution_l + '$'\n",
    "    else:\n",
    "        latex_display = '$\\mathscr{L}^{-1}\\\\Big(' + input_expr_l + '\\\\Big) = '+ solution_l + '$'\n",
    "    display(Latex(latex_display))\n",
    "    pass"
   ]
  },
  {
   "cell_type": "code",
   "execution_count": 375,
   "metadata": {},
   "outputs": [
    {
     "data": {
      "text/latex": [
       "$\\mathscr{L}^{-1}\\Big(\\frac{1}{s^{2} + 4}\\Big) = \\frac{\\sin{\\left(2 t \\right)}}{2}$"
      ],
      "text/plain": [
       "<IPython.core.display.Latex object>"
      ]
     },
     "metadata": {},
     "output_type": "display_data"
    }
   ],
   "source": [
    "inverse_laplace_3('1/(s**2 + 4)')"
   ]
  },
  {
   "cell_type": "code",
   "execution_count": 376,
   "metadata": {},
   "outputs": [
    {
     "data": {
      "text/latex": [
       "$\\mathscr{L}^{-1}\\Big(\\frac{4}{3 s + 12}\\Big) = \\mathscr{L}^{-1}\\Big(\\frac{4}{3 \\left(s + 4\\right)}\\Big) = \\frac{4 e^{- 4 t}}{3}$"
      ],
      "text/plain": [
       "<IPython.core.display.Latex object>"
      ]
     },
     "metadata": {},
     "output_type": "display_data"
    }
   ],
   "source": [
    "inverse_laplace_3('4/(3*(s + 4))')"
   ]
  },
  {
   "cell_type": "code",
   "execution_count": 377,
   "metadata": {},
   "outputs": [
    {
     "data": {
      "text/latex": [
       "$\\mathscr{L}^{-1}\\Big(\\frac{4}{6 s^{2} + 24}\\Big) = \\mathscr{L}^{-1}\\Big(\\frac{2}{3 \\left(s^{2} + 4\\right)}\\Big) = \\frac{\\sin{\\left(2 t \\right)}}{3}$"
      ],
      "text/plain": [
       "<IPython.core.display.Latex object>"
      ]
     },
     "metadata": {},
     "output_type": "display_data"
    }
   ],
   "source": [
    "inverse_laplace_3('4/(6*(s**2 + 4))')"
   ]
  },
  {
   "cell_type": "code",
   "execution_count": 379,
   "metadata": {},
   "outputs": [
    {
     "name": "stdout",
     "output_type": "stream",
     "text": [
      "top level is add\n",
      "args = ['(-2/(5*(s**2 + 1))', ' 1/(5*(s - 2))', ' -s/(5*(s**2 + 1)))']\n",
      "(-2/(5*(s**2 + 1))\n",
      " 1/(5*(s - 2))\n",
      " -s/(5*(s**2 + 1)))\n"
     ]
    },
    {
     "ename": "UnboundLocalError",
     "evalue": "local variable 'solution' referenced before assignment",
     "output_type": "error",
     "traceback": [
      "\u001b[0;31m---------------------------------------------------------------------------\u001b[0m",
      "\u001b[0;31mUnboundLocalError\u001b[0m                         Traceback (most recent call last)",
      "\u001b[0;32m<ipython-input-379-721074a7c9c3>\u001b[0m in \u001b[0;36m<module>\u001b[0;34m\u001b[0m\n\u001b[0;32m----> 1\u001b[0;31m \u001b[0minverse_laplace_3\u001b[0m\u001b[0;34m(\u001b[0m\u001b[0;34m'1/((s**2 + 1)*(s-2))'\u001b[0m\u001b[0;34m)\u001b[0m\u001b[0;34m\u001b[0m\u001b[0;34m\u001b[0m\u001b[0m\n\u001b[0m",
      "\u001b[0;32m<ipython-input-378-49052b8624a9>\u001b[0m in \u001b[0;36minverse_laplace_3\u001b[0;34m(expression)\u001b[0m\n\u001b[1;32m     25\u001b[0m     \u001b[0minput_expr_l\u001b[0m \u001b[0;34m=\u001b[0m \u001b[0mlatex\u001b[0m\u001b[0;34m(\u001b[0m\u001b[0msympify\u001b[0m\u001b[0;34m(\u001b[0m\u001b[0mexpression\u001b[0m\u001b[0;34m)\u001b[0m\u001b[0;34m,\u001b[0m\u001b[0mitex\u001b[0m\u001b[0;34m=\u001b[0m\u001b[0mtrue\u001b[0m\u001b[0;34m,\u001b[0m\u001b[0mmode\u001b[0m\u001b[0;34m=\u001b[0m\u001b[0;34m'plain'\u001b[0m\u001b[0;34m)\u001b[0m\u001b[0;34m\u001b[0m\u001b[0;34m\u001b[0m\u001b[0m\n\u001b[1;32m     26\u001b[0m     \u001b[0mpfd_l\u001b[0m \u001b[0;34m=\u001b[0m \u001b[0mlatex\u001b[0m\u001b[0;34m(\u001b[0m\u001b[0mpfd\u001b[0m\u001b[0;34m,\u001b[0m\u001b[0mitex\u001b[0m\u001b[0;34m=\u001b[0m\u001b[0mtrue\u001b[0m\u001b[0;34m,\u001b[0m\u001b[0mmode\u001b[0m\u001b[0;34m=\u001b[0m\u001b[0;34m'plain'\u001b[0m\u001b[0;34m)\u001b[0m\u001b[0;34m\u001b[0m\u001b[0;34m\u001b[0m\u001b[0m\n\u001b[0;32m---> 27\u001b[0;31m     \u001b[0msolution_l\u001b[0m \u001b[0;34m=\u001b[0m \u001b[0mlatex\u001b[0m\u001b[0;34m(\u001b[0m\u001b[0msimplify\u001b[0m\u001b[0;34m(\u001b[0m\u001b[0msolution\u001b[0m\u001b[0;34m)\u001b[0m\u001b[0;34m,\u001b[0m\u001b[0mitex\u001b[0m\u001b[0;34m=\u001b[0m\u001b[0mtrue\u001b[0m\u001b[0;34m,\u001b[0m\u001b[0mmode\u001b[0m\u001b[0;34m=\u001b[0m\u001b[0;34m'plain'\u001b[0m\u001b[0;34m)\u001b[0m\u001b[0;34m\u001b[0m\u001b[0;34m\u001b[0m\u001b[0m\n\u001b[0m\u001b[1;32m     28\u001b[0m     \u001b[0;32mif\u001b[0m \u001b[0mpfd\u001b[0m \u001b[0;34m!=\u001b[0m \u001b[0msympify\u001b[0m\u001b[0;34m(\u001b[0m\u001b[0mexpression\u001b[0m\u001b[0;34m)\u001b[0m\u001b[0;34m:\u001b[0m\u001b[0;34m\u001b[0m\u001b[0;34m\u001b[0m\u001b[0m\n\u001b[1;32m     29\u001b[0m         \u001b[0mlatex_display\u001b[0m \u001b[0;34m=\u001b[0m \u001b[0;34m'$\\mathscr{L}^{-1}\\\\Big('\u001b[0m \u001b[0;34m+\u001b[0m \u001b[0minput_expr_l\u001b[0m \u001b[0;34m+\u001b[0m \u001b[0;34m'\\\\Big) = \\mathscr{L}^{-1}\\\\Big('\u001b[0m \u001b[0;34m+\u001b[0m \u001b[0mpfd_l\u001b[0m \u001b[0;34m+\u001b[0m \u001b[0;34m'\\\\Big) = '\u001b[0m\u001b[0;34m+\u001b[0m \u001b[0msolution_l\u001b[0m \u001b[0;34m+\u001b[0m \u001b[0;34m'$'\u001b[0m\u001b[0;34m\u001b[0m\u001b[0;34m\u001b[0m\u001b[0m\n",
      "\u001b[0;31mUnboundLocalError\u001b[0m: local variable 'solution' referenced before assignment"
     ]
    }
   ],
   "source": [
    "inverse_laplace_3('1/((s**2 + 1)*(s-2))')"
   ]
  },
  {
   "cell_type": "code",
   "execution_count": 159,
   "metadata": {},
   "outputs": [
    {
     "name": "stdout",
     "output_type": "stream",
     "text": [
      "top level is add\n",
      "args = ['(-2/(3*(s**2 + 4))', ' 5/(3*(s**2 + 1))', ' 2*s/(s**2 + 1))']\n",
      "top level is pow\n",
      "args = ['(s', ' -1)']\n",
      "top level is mul\n",
      "args = ['(6', ' 1/s)']\n"
     ]
    }
   ],
   "source": [
    "inverse_laplace_type('(2*s^3 + s^2 + 8*s + 6)/((s^2 + 1)*(s^2+4))')\n",
    "inverse_laplace_type('1/s')\n",
    "inverse_laplace_type('6/s')"
   ]
  },
  {
   "cell_type": "code",
   "execution_count": 31,
   "metadata": {},
   "outputs": [
    {
     "name": "stdout",
     "output_type": "stream",
     "text": [
      "['Mul(Integer(-1)', ' Rational(2', ' 3)', \" Pow(Add(Pow(Symbol('s')\", ' Integer(2))', ' Integer(4))', ' Integer(-1)))']\n",
      "[-1, 2, 3, ' ', 2, 4, -1]\n",
      "arg.args[0] = -2/3\n",
      "sub_term: -sin(2*t)/3\n",
      "['Mul(Rational(5', ' 3)', \" Pow(Add(Pow(Symbol('s')\", ' Integer(2))', ' Integer(1))', ' Integer(-1)))']\n",
      "[5, 3, ' ', 2, 1, -1]\n",
      "arg.args[0] = 5/3\n",
      "sub_term: 5*sin(t)/3\n",
      "['Mul(Integer(2)', \" Symbol('s')\", \" Pow(Add(Pow(Symbol('s')\", ' Integer(2))', ' Integer(1))', ' Integer(-1)))']\n",
      "[2, ' ', ' ', 2, 1, -1]\n",
      "arg.args[0] = 2\n",
      "sub_term: 2*cos(t)\n"
     ]
    },
    {
     "data": {
      "text/latex": [
       "$\\mathscr{L}^{-1}\\Big(\\frac{2 s^{3} + s^{2} + 8 s + 6}{\\left(s^{2} + 1\\right) \\left(s^{2} + 4\\right)}\\Big) = \\mathscr{L}^{-1}\\Big(\\frac{2 s}{s^{2} + 1} - \\frac{2}{3 \\left(s^{2} + 4\\right)} + \\frac{5}{3 \\left(s^{2} + 1\\right)}\\Big) = \\frac{5 \\sin{\\left(t \\right)}}{3} - \\frac{\\sin{\\left(2 t \\right)}}{3} + 2 \\cos{\\left(t \\right)}$"
      ],
      "text/plain": [
       "<IPython.core.display.Latex object>"
      ]
     },
     "metadata": {},
     "output_type": "display_data"
    }
   ],
   "source": [
    "inverse_laplace_testing('(2*s^3 + s^2 + 8*s + 6)/((s^2 + 1)*(s^2+4))')"
   ]
  },
  {
   "cell_type": "code",
   "execution_count": 98,
   "metadata": {},
   "outputs": [
    {
     "name": "stdout",
     "output_type": "stream",
     "text": [
      "['Mul(Integer(-1)', ' Rational(2', ' 5)', \" Pow(Add(Pow(Symbol('s')\", ' Integer(2))', ' Integer(1))', ' Integer(-1)))']\n",
      "[-1, 2, 5, ' ', 2, 1, -1]\n",
      "s_p[first_symbolic_index] =  Pow(Add(Pow(Symbol('s')\n",
      "sub_term: -2*sin(t)/5\n",
      "['Mul(Rational(1', ' 5)', \" Pow(Add(Symbol('s')\", ' Integer(-2))', ' Integer(-1)))']\n",
      "[1, 5, ' ', -2, -1]\n",
      "s_p[first_symbolic_index] =  Pow(Add(Symbol('s')\n",
      "sub_term: exp(2*t)/5\n",
      "['Mul(Integer(-1)', ' Rational(1', ' 5)', \" Symbol('s')\", \" Pow(Add(Pow(Symbol('s')\", ' Integer(2))', ' Integer(1))', ' Integer(-1)))']\n",
      "[-1, 1, 5, ' ', ' ', 2, 1, -1]\n",
      "s_p[first_symbolic_index] =  Symbol('s')\n",
      "sub_term: -cos(t)/5\n"
     ]
    },
    {
     "data": {
      "text/latex": [
       "$\\mathscr{L}^{-1}\\Big(\\frac{1}{\\left(s - 2\\right) \\left(s^{2} + 1\\right)}\\Big) = \\mathscr{L}^{-1}\\Big(- \\frac{s}{5 \\left(s^{2} + 1\\right)} - \\frac{2}{5 \\left(s^{2} + 1\\right)} + \\frac{1}{5 \\left(s - 2\\right)}\\Big) = \\frac{e^{2 t}}{5} - \\frac{2 \\sin{\\left(t \\right)}}{5} - \\frac{\\cos{\\left(t \\right)}}{5}$"
      ],
      "text/plain": [
       "<IPython.core.display.Latex object>"
      ]
     },
     "metadata": {},
     "output_type": "display_data"
    }
   ],
   "source": [
    "inverse_laplace_testing('1/((s**2 + 1)*(s-2))')"
   ]
  },
  {
   "cell_type": "code",
   "execution_count": 97,
   "metadata": {},
   "outputs": [
    {
     "name": "stdout",
     "output_type": "stream",
     "text": [
      "['Mul(Integer(-1)', \" Pow(Add(Symbol('s')\", ' Integer(1))', ' Integer(-1)))']\n",
      "[-1, ' ', 1, -1]\n",
      "s_p[first_symbolic_index] =  Pow(Add(Symbol('s')\n",
      "sub_term: -exp(-t)\n",
      "['Mul(Integer(5)', \" Pow(Add(Pow(Symbol('s')\", ' Integer(2))', ' Mul(Integer(-1)', ' Integer(2)', \" Symbol('s'))\", ' Integer(5))', ' Integer(-1)))']\n",
      "[5, ' ', 2, -1, 2, ' ', 5, -1]\n",
      "s_p[first_symbolic_index] =  Pow(Add(Pow(Symbol('s')\n",
      "sub_term: 5*sin(t)\n",
      "['Mul(Integer(3)', \" Symbol('s')\", \" Pow(Add(Pow(Symbol('s')\", ' Integer(2))', ' Mul(Integer(-1)', ' Integer(2)', \" Symbol('s'))\", ' Integer(5))', ' Integer(-1)))']\n",
      "[3, ' ', ' ', 2, -1, 2, ' ', 5, -1]\n",
      "s_p[first_symbolic_index] =  Symbol('s')\n",
      "sub_term: -3*I*cosh(t)\n"
     ]
    },
    {
     "data": {
      "text/latex": [
       "$\\mathscr{L}^{-1}\\Big(\\frac{2 s^{2} + 10 s}{\\left(s + 1\\right) \\left(s^{2} - 2 s + 5\\right)}\\Big) = \\mathscr{L}^{-1}\\Big(\\frac{3 s}{s^{2} - 2 s + 5} + \\frac{5}{s^{2} - 2 s + 5} - \\frac{1}{s + 1}\\Big) = 5 \\sin{\\left(t \\right)} - 3 i \\cosh{\\left(t \\right)} - e^{- t}$"
      ],
      "text/plain": [
       "<IPython.core.display.Latex object>"
      ]
     },
     "metadata": {},
     "output_type": "display_data"
    }
   ],
   "source": [
    "inverse_laplace_testing('(2*s**2 + 10*s)/((s**2 - 2*s + 5)*(s + 1))')"
   ]
  },
  {
   "cell_type": "code",
   "execution_count": 110,
   "metadata": {},
   "outputs": [
    {
     "name": "stdout",
     "output_type": "stream",
     "text": [
      "s_p = [\"Symbol('s')\"]\n",
      "vals = [' ']\n",
      "s_p[first_symbolic_index] = Symbol('s')\n"
     ]
    },
    {
     "ename": "IndexError",
     "evalue": "list index out of range",
     "output_type": "error",
     "traceback": [
      "\u001b[0;31m---------------------------------------------------------------------------\u001b[0m",
      "\u001b[0;31mIndexError\u001b[0m                                Traceback (most recent call last)",
      "\u001b[0;32m<ipython-input-110-44714b264f76>\u001b[0m in \u001b[0;36m<module>\u001b[0;34m\u001b[0m\n\u001b[0;32m----> 1\u001b[0;31m \u001b[0minverse_laplace_testing\u001b[0m\u001b[0;34m(\u001b[0m\u001b[0;34m'1/s'\u001b[0m\u001b[0;34m)\u001b[0m\u001b[0;34m\u001b[0m\u001b[0;34m\u001b[0m\u001b[0m\n\u001b[0m",
      "\u001b[0;32m<ipython-input-109-9491c595fe7a>\u001b[0m in \u001b[0;36minverse_laplace_testing\u001b[0;34m(expression)\u001b[0m\n\u001b[1;32m     36\u001b[0m \u001b[0;34m\u001b[0m\u001b[0m\n\u001b[1;32m     37\u001b[0m         \u001b[0;32melif\u001b[0m \u001b[0ms_p\u001b[0m\u001b[0;34m[\u001b[0m\u001b[0mfirst_symbolic_index\u001b[0m\u001b[0;34m]\u001b[0m \u001b[0;34m==\u001b[0m \u001b[0;34m\" Symbol('s')\"\u001b[0m \u001b[0;32mor\u001b[0m \u001b[0ms_p\u001b[0m\u001b[0;34m[\u001b[0m\u001b[0mfirst_symbolic_index\u001b[0m\u001b[0;34m]\u001b[0m \u001b[0;34m==\u001b[0m \u001b[0;34m\"Symbol('s')\"\u001b[0m\u001b[0;34m:\u001b[0m\u001b[0;34m\u001b[0m\u001b[0;34m\u001b[0m\u001b[0m\n\u001b[0;32m---> 38\u001b[0;31m             \u001b[0;32mif\u001b[0m \u001b[0ms_p\u001b[0m\u001b[0;34m[\u001b[0m\u001b[0mfirst_symbolic_index\u001b[0m \u001b[0;34m+\u001b[0m \u001b[0;36m1\u001b[0m\u001b[0;34m]\u001b[0m \u001b[0;34m==\u001b[0m \u001b[0;34m\" Pow(Add(Pow(Symbol('s')\"\u001b[0m\u001b[0;34m:\u001b[0m\u001b[0;34m\u001b[0m\u001b[0;34m\u001b[0m\u001b[0m\n\u001b[0m\u001b[1;32m     39\u001b[0m                 \u001b[0;32mif\u001b[0m \u001b[0mvals\u001b[0m\u001b[0;34m[\u001b[0m\u001b[0mfirst_symbolic_index\u001b[0m \u001b[0;34m+\u001b[0m \u001b[0;36m3\u001b[0m\u001b[0;34m]\u001b[0m \u001b[0;34m>\u001b[0m \u001b[0;36m0\u001b[0m\u001b[0;34m:\u001b[0m\u001b[0;34m\u001b[0m\u001b[0;34m\u001b[0m\u001b[0m\n\u001b[1;32m     40\u001b[0m                     \u001b[0msub_term\u001b[0m \u001b[0;34m=\u001b[0m \u001b[0;34m'cos('\u001b[0m \u001b[0;34m+\u001b[0m \u001b[0mstr\u001b[0m\u001b[0;34m(\u001b[0m\u001b[0msqrt\u001b[0m\u001b[0;34m(\u001b[0m\u001b[0mvals\u001b[0m\u001b[0;34m[\u001b[0m\u001b[0mfirst_symbolic_index\u001b[0m \u001b[0;34m+\u001b[0m \u001b[0;36m3\u001b[0m\u001b[0;34m]\u001b[0m\u001b[0;34m)\u001b[0m\u001b[0;34m)\u001b[0m \u001b[0;34m+\u001b[0m \u001b[0;34m'*t)'\u001b[0m\u001b[0;34m\u001b[0m\u001b[0;34m\u001b[0m\u001b[0m\n",
      "\u001b[0;31mIndexError\u001b[0m: list index out of range"
     ]
    }
   ],
   "source": [
    "inverse_laplace_testing('1/s')"
   ]
  },
  {
   "cell_type": "code",
   "execution_count": 116,
   "metadata": {},
   "outputs": [
    {
     "name": "stdout",
     "output_type": "stream",
     "text": [
      "[\"Symbol('s')\"]\n",
      "['()']\n",
      "['Integer(-1)']\n",
      "['()']\n"
     ]
    },
    {
     "data": {
      "text/plain": [
       "\"Pow(Symbol('s'), Integer(-1))\""
      ]
     },
     "execution_count": 116,
     "metadata": {},
     "output_type": "execute_result"
    }
   ],
   "source": [
    "for arg in pfd('1/s').args:\n",
    "    print(srepr(arg).split(','))\n",
    "    print(srepr(arg.args).split(','))\n",
    "srepr(pfd('1/s'))"
   ]
  },
  {
   "cell_type": "code",
   "execution_count": 117,
   "metadata": {},
   "outputs": [
    {
     "data": {
      "text/plain": [
       "[\"Pow(Symbol('s')\", ' Integer(-1))']"
      ]
     },
     "execution_count": 117,
     "metadata": {},
     "output_type": "execute_result"
    }
   ],
   "source": [
    "srepr(pfd('1/s')).split(',')"
   ]
  },
  {
   "cell_type": "code",
   "execution_count": 57,
   "metadata": {},
   "outputs": [
    {
     "name": "stdout",
     "output_type": "stream",
     "text": [
      " Pow(Symbol('s')\n",
      "(6, 1/s)\n"
     ]
    }
   ],
   "source": [
    "print(srepr(pfd('6/s')).split(',')[1])\n",
    "print(pfd('6/s').args)"
   ]
  },
  {
   "cell_type": "code",
   "execution_count": 37,
   "metadata": {},
   "outputs": [
    {
     "name": "stdout",
     "output_type": "stream",
     "text": [
      "['Mul(Integer(-1)', ' Rational(1', ' 3)', \" Pow(Symbol('s')\", ' Integer(-2)))']\n",
      "[-1, 1, 3, ' ', -2]\n",
      "arg.args[0] = -1/3\n",
      "sub_term: -t/3\n",
      "['Mul(Integer(-1)', ' Rational(1', ' 9)', \" Pow(Symbol('s')\", ' Integer(-1)))']\n",
      "[-1, 1, 9, ' ', -1]\n",
      "arg.args[0] = -1/9\n",
      "sub_term: -1/9\n",
      "['Mul(Rational(10', ' 9)', \" Pow(Add(Symbol('s')\", ' Integer(-3))', ' Integer(-1)))']\n",
      "[10, 9, ' ', -3, -1]\n",
      "arg.args[0] = 10/9\n",
      "sub_term: 10*exp(3*t)/9\n"
     ]
    },
    {
     "data": {
      "text/latex": [
       "$\\mathscr{L}^{-1}\\Big(\\frac{s^{2} + 1}{s^{2} \\left(s - 3\\right)}\\Big) = \\mathscr{L}^{-1}\\Big(\\frac{10}{9 \\left(s - 3\\right)} - \\frac{1}{9 s} - \\frac{1}{3 s^{2}}\\Big) = - \\frac{t}{3} + \\frac{10 e^{3 t}}{9} - \\frac{1}{9}$"
      ],
      "text/plain": [
       "<IPython.core.display.Latex object>"
      ]
     },
     "metadata": {},
     "output_type": "display_data"
    }
   ],
   "source": [
    "inverse_laplace_testing('(1+s**2)/(s**2*(s-3))')"
   ]
  },
  {
   "cell_type": "code",
   "execution_count": 93,
   "metadata": {},
   "outputs": [
    {
     "data": {
      "text/plain": [
       "\"Mul(Symbol('s'), Pow(Add(Pow(Symbol('s'), Integer(2)), Integer(1)), Integer(-1)))\""
      ]
     },
     "execution_count": 93,
     "metadata": {},
     "output_type": "execute_result"
    }
   ],
   "source": [
    "srepr(sympify('s/(s^2+1)'))"
   ]
  },
  {
   "cell_type": "markdown",
   "metadata": {},
   "source": [
    "## Part 2\n",
    "\n",
    "Part 2 involves taking the metric and carrying out a variety of operations on it. The first thing we want is the inverse metric. The code below defines a function that takes an input which can be defined by the previously defined function `metric_gen`, and outputs the inverse metric."
   ]
  },
  {
   "cell_type": "code",
   "execution_count": 11,
   "metadata": {},
   "outputs": [],
   "source": [
    "def inv_metric(metric):\n",
    "    output = Matrix(metric)\n",
    "    output = output**-1\n",
    "    return output"
   ]
  },
  {
   "cell_type": "markdown",
   "metadata": {},
   "source": [
    "The code block below takes the Schwarzchild Metric and calculates it's inverse:"
   ]
  },
  {
   "cell_type": "code",
   "execution_count": 12,
   "metadata": {},
   "outputs": [
    {
     "ename": "NameError",
     "evalue": "name 'metric_gen' is not defined",
     "output_type": "error",
     "traceback": [
      "\u001b[0;31m---------------------------------------------------------------------------\u001b[0m",
      "\u001b[0;31mNameError\u001b[0m                                 Traceback (most recent call last)",
      "\u001b[0;32m<ipython-input-12-4633452a1896>\u001b[0m in \u001b[0;36m<module>\u001b[0;34m\u001b[0m\n\u001b[0;32m----> 1\u001b[0;31m \u001b[0mmetric\u001b[0m \u001b[0;34m=\u001b[0m \u001b[0mmetric_gen\u001b[0m\u001b[0;34m(\u001b[0m\u001b[0mdim\u001b[0m\u001b[0;34m=\u001b[0m\u001b[0;36m4\u001b[0m\u001b[0;34m,\u001b[0m \u001b[0mtt\u001b[0m\u001b[0;34m=\u001b[0m\u001b[0;34m'-(1-(2/r))'\u001b[0m\u001b[0;34m,\u001b[0m \u001b[0mxx\u001b[0m\u001b[0;34m=\u001b[0m\u001b[0;34m'(1-(2/r))**-1'\u001b[0m\u001b[0;34m,\u001b[0m\u001b[0myy\u001b[0m\u001b[0;34m=\u001b[0m\u001b[0;34m'r**2'\u001b[0m\u001b[0;34m,\u001b[0m\u001b[0mzz\u001b[0m\u001b[0;34m=\u001b[0m\u001b[0;34m'(r**2)*sin(theta)**2'\u001b[0m\u001b[0;34m)\u001b[0m\u001b[0;34m\u001b[0m\u001b[0;34m\u001b[0m\u001b[0m\n\u001b[0m\u001b[1;32m      2\u001b[0m \u001b[0minverse\u001b[0m \u001b[0;34m=\u001b[0m \u001b[0minv_metric\u001b[0m\u001b[0;34m(\u001b[0m\u001b[0mmetric\u001b[0m\u001b[0;34m)\u001b[0m\u001b[0;34m\u001b[0m\u001b[0;34m\u001b[0m\u001b[0m\n\u001b[1;32m      3\u001b[0m \u001b[0mcole\u001b[0m \u001b[0;34m=\u001b[0m \u001b[0mlatex\u001b[0m\u001b[0;34m(\u001b[0m\u001b[0minverse\u001b[0m\u001b[0;34m,\u001b[0m\u001b[0mitex\u001b[0m\u001b[0;34m=\u001b[0m\u001b[0mtrue\u001b[0m\u001b[0;34m,\u001b[0m\u001b[0mmode\u001b[0m\u001b[0;34m=\u001b[0m\u001b[0;34m'plain'\u001b[0m\u001b[0;34m)\u001b[0m\u001b[0;34m\u001b[0m\u001b[0;34m\u001b[0m\u001b[0m\n\u001b[1;32m      4\u001b[0m \u001b[0mcole\u001b[0m \u001b[0;34m=\u001b[0m \u001b[0;34m'$'\u001b[0m \u001b[0;34m+\u001b[0m \u001b[0mcole\u001b[0m \u001b[0;34m+\u001b[0m \u001b[0;34m'=0$'\u001b[0m\u001b[0;34m\u001b[0m\u001b[0;34m\u001b[0m\u001b[0m\n\u001b[1;32m      5\u001b[0m \u001b[0mdisplay\u001b[0m\u001b[0;34m(\u001b[0m\u001b[0mLatex\u001b[0m\u001b[0;34m(\u001b[0m\u001b[0mcole\u001b[0m\u001b[0;34m)\u001b[0m\u001b[0;34m)\u001b[0m\u001b[0;34m\u001b[0m\u001b[0;34m\u001b[0m\u001b[0m\n",
      "\u001b[0;31mNameError\u001b[0m: name 'metric_gen' is not defined"
     ]
    }
   ],
   "source": [
    "metric = metric_gen(dim=4, tt='-(1-(2/r))', xx='(1-(2/r))**-1',yy='r**2',zz='(r**2)*sin(theta)**2')\n",
    "inverse = inv_metric(metric)\n",
    "cole = latex(inverse,itex=true,mode='plain')\n",
    "cole = '$' + cole + '=0$'\n",
    "display(Latex(cole))"
   ]
  },
  {
   "cell_type": "markdown",
   "metadata": {},
   "source": [
    "Next, we want to write a function that calculates the Christoffel Symbols for a given metric. The code below takes the metric as input, calls the `inv_metric` function from above, and outputs the christoffel symbols."
   ]
  },
  {
   "cell_type": "code",
   "execution_count": 13,
   "metadata": {},
   "outputs": [],
   "source": [
    "def christoffel(metric, coordinates):\n",
    "    coords = []\n",
    "    dim = len(coordinates)\n",
    "    christoffel = np.empty([dim,dim,dim],dtype='object')\n",
    "    tau = S('tau')\n",
    "    coordsx = S(coordinates)\n",
    "    inv = inv_metric(metric)\n",
    "    metric = Matrix(metric)\n",
    "    for i in range(0,len(coordinates)):\n",
    "        for j in range(0,len(coordinates)):\n",
    "            for k in range(0,len(coordinates)):\n",
    "                sum = 0\n",
    "                for l in range(0,len(coordinates)):\n",
    "                    temp = 0.5*inv[i,l]*(diff(metric[l,k],coordsx[j])+diff(metric[j,l],coordsx[k])-diff(metric[j,k],coordsx[l]))\n",
    "                    sum = sum + temp\n",
    "                christoffel[i,j,k] = sum\n",
    "    return christoffel"
   ]
  },
  {
   "cell_type": "markdown",
   "metadata": {},
   "source": [
    "Let us call the function with the input of the Schwarzchild Metric. These are the Christoffel Symbols for the Schwarzchild metric."
   ]
  },
  {
   "cell_type": "markdown",
   "metadata": {},
   "source": [
    "Next, we want to write a function that calculates the Riemann Tensor for a given metric. The code below takes the metric and coordinates as input, calls the `christoffel` function from above, and outputs the Riemann Tensor."
   ]
  },
  {
   "cell_type": "code",
   "execution_count": 14,
   "metadata": {},
   "outputs": [],
   "source": [
    "def Riemann(metric,coordinates):\n",
    "    dim = len(coordinates)\n",
    "    coords = []\n",
    "    Riemann = np.empty([dim,dim,dim,dim],dtype='object')\n",
    "    ch = christoffel(metric,coordinates)\n",
    "    tau = S('tau')\n",
    "    coordsx = S(coordinates)\n",
    "    for n in range(0,dim):\n",
    "        coords.append(Function(coordinates[n])(tau))\n",
    "    inv = inv_metric(metric)\n",
    "    metric = Matrix(metric)\n",
    "    for i in range(0,dim):\n",
    "        for j in range(0,dim):\n",
    "            for k in range(0,dim):\n",
    "                for l in range(0,dim):\n",
    "                    sum = 0\n",
    "                    for m in range(0,dim):\n",
    "                        tempsum = ch[i,k,m]*ch[m,j,l]-ch[i,l,m]*ch[m,j,k]\n",
    "                        sum = sum + tempsum\n",
    "                    temp = diff(ch[i,j,l],coordinates[k])-diff(ch[i,j,k],coordinates[l]) + sum\n",
    "                    Riemann[i,j,k,l] = simplify(temp)\n",
    "    return Riemann"
   ]
  },
  {
   "cell_type": "markdown",
   "metadata": {},
   "source": [
    "This code below calls the `Riemann` function above for the Schwarzchild metric."
   ]
  },
  {
   "cell_type": "markdown",
   "metadata": {},
   "source": [
    "This function outputs the Ricci Tensor:"
   ]
  },
  {
   "cell_type": "code",
   "execution_count": null,
   "metadata": {},
   "outputs": [],
   "source": []
  },
  {
   "cell_type": "code",
   "execution_count": null,
   "metadata": {},
   "outputs": [],
   "source": []
  },
  {
   "cell_type": "code",
   "execution_count": null,
   "metadata": {},
   "outputs": [],
   "source": []
  },
  {
   "cell_type": "code",
   "execution_count": null,
   "metadata": {},
   "outputs": [],
   "source": []
  },
  {
   "cell_type": "code",
   "execution_count": null,
   "metadata": {},
   "outputs": [],
   "source": []
  },
  {
   "cell_type": "code",
   "execution_count": null,
   "metadata": {},
   "outputs": [],
   "source": []
  },
  {
   "cell_type": "code",
   "execution_count": null,
   "metadata": {},
   "outputs": [],
   "source": []
  },
  {
   "cell_type": "code",
   "execution_count": null,
   "metadata": {},
   "outputs": [],
   "source": []
  },
  {
   "cell_type": "code",
   "execution_count": null,
   "metadata": {},
   "outputs": [],
   "source": []
  },
  {
   "cell_type": "code",
   "execution_count": null,
   "metadata": {},
   "outputs": [],
   "source": []
  },
  {
   "cell_type": "code",
   "execution_count": null,
   "metadata": {},
   "outputs": [],
   "source": []
  },
  {
   "cell_type": "code",
   "execution_count": null,
   "metadata": {},
   "outputs": [],
   "source": []
  },
  {
   "cell_type": "code",
   "execution_count": null,
   "metadata": {},
   "outputs": [],
   "source": []
  },
  {
   "cell_type": "code",
   "execution_count": null,
   "metadata": {},
   "outputs": [],
   "source": []
  },
  {
   "cell_type": "code",
   "execution_count": null,
   "metadata": {},
   "outputs": [],
   "source": []
  },
  {
   "cell_type": "code",
   "execution_count": null,
   "metadata": {},
   "outputs": [],
   "source": []
  },
  {
   "cell_type": "code",
   "execution_count": null,
   "metadata": {},
   "outputs": [],
   "source": []
  },
  {
   "cell_type": "code",
   "execution_count": null,
   "metadata": {},
   "outputs": [],
   "source": []
  },
  {
   "cell_type": "code",
   "execution_count": null,
   "metadata": {},
   "outputs": [],
   "source": []
  },
  {
   "cell_type": "code",
   "execution_count": null,
   "metadata": {},
   "outputs": [],
   "source": []
  },
  {
   "cell_type": "code",
   "execution_count": null,
   "metadata": {},
   "outputs": [],
   "source": []
  },
  {
   "cell_type": "code",
   "execution_count": null,
   "metadata": {},
   "outputs": [],
   "source": []
  }
 ],
 "metadata": {
  "kernelspec": {
   "display_name": "Python 3",
   "language": "python",
   "name": "python3"
  },
  "language_info": {
   "codemirror_mode": {
    "name": "ipython",
    "version": 3
   },
   "file_extension": ".py",
   "mimetype": "text/x-python",
   "name": "python",
   "nbconvert_exporter": "python",
   "pygments_lexer": "ipython3",
   "version": "3.7.4"
  }
 },
 "nbformat": 4,
 "nbformat_minor": 1
}
